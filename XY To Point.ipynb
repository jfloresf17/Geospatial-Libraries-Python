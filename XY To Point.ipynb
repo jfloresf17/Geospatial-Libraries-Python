{
 "cells": [
  {
   "cell_type": "code",
   "execution_count": 3,
   "metadata": {},
   "outputs": [
    {
     "data": {
      "text/html": [
       "<div>\n",
       "<style scoped>\n",
       "    .dataframe tbody tr th:only-of-type {\n",
       "        vertical-align: middle;\n",
       "    }\n",
       "\n",
       "    .dataframe tbody tr th {\n",
       "        vertical-align: top;\n",
       "    }\n",
       "\n",
       "    .dataframe thead th {\n",
       "        text-align: right;\n",
       "    }\n",
       "</style>\n",
       "<table border=\"1\" class=\"dataframe\">\n",
       "  <thead>\n",
       "    <tr style=\"text-align: right;\">\n",
       "      <th></th>\n",
       "      <th>cod</th>\n",
       "      <th>lat</th>\n",
       "      <th>lon</th>\n",
       "      <th>nom</th>\n",
       "    </tr>\n",
       "  </thead>\n",
       "  <tbody>\n",
       "    <tr>\n",
       "      <th>0</th>\n",
       "      <td>4726A602</td>\n",
       "      <td>-6.37914</td>\n",
       "      <td>-78.81339</td>\n",
       "      <td>CUTERVO GORE</td>\n",
       "    </tr>\n",
       "    <tr>\n",
       "      <th>1</th>\n",
       "      <td>472680EE</td>\n",
       "      <td>-6.67996</td>\n",
       "      <td>-78.52363</td>\n",
       "      <td>BAMBAMARCA GORE</td>\n",
       "    </tr>\n",
       "    <tr>\n",
       "      <th>2</th>\n",
       "      <td>4727F484</td>\n",
       "      <td>-6.66667</td>\n",
       "      <td>-78.73333</td>\n",
       "      <td>CHUGUR</td>\n",
       "    </tr>\n",
       "    <tr>\n",
       "      <th>3</th>\n",
       "      <td>47269398</td>\n",
       "      <td>-5.67667</td>\n",
       "      <td>-78.77418</td>\n",
       "      <td>JAEN GORE</td>\n",
       "    </tr>\n",
       "    <tr>\n",
       "      <th>4</th>\n",
       "      <td>4726706A</td>\n",
       "      <td>-5.14422</td>\n",
       "      <td>-78.99989</td>\n",
       "      <td>SAN IGNACIO GORE</td>\n",
       "    </tr>\n",
       "  </tbody>\n",
       "</table>\n",
       "</div>"
      ],
      "text/plain": [
       "        cod      lat       lon               nom\n",
       "0  4726A602 -6.37914 -78.81339      CUTERVO GORE\n",
       "1  472680EE -6.67996 -78.52363   BAMBAMARCA GORE\n",
       "2  4727F484 -6.66667 -78.73333            CHUGUR\n",
       "3  47269398 -5.67667 -78.77418         JAEN GORE\n",
       "4  4726706A -5.14422 -78.99989  SAN IGNACIO GORE"
      ]
     },
     "execution_count": 3,
     "metadata": {},
     "output_type": "execute_result"
    }
   ],
   "source": [
    "import os\n",
    "import json\n",
    "import pandas as pd\n",
    "workspace = r'C:\\Users\\jf_ph\\Documents\\SATELLITE IMAGES\\SHAPEFILE'\n",
    "estaciones = os.path.join(workspace,'estaciones.json')\n",
    "ema = os.path.join(workspace,'ema.csv')\n",
    "\n",
    "with open(estaciones,'r') as estaciones:\n",
    "      e = json.load(estaciones)\n",
    "lista= []  \n",
    "for i in e['estaciones']:\n",
    "      if i['ico'] == 'M' and i['estado'] == 'AUTOMATICA': \n",
    "            lista.append([i['cod'],i['lat'],i['lon'],i['nom']])\n",
    "lista    \n",
    "df = pd.DataFrame(lista, columns = ['cod','lat','lon','nom'])\n",
    "df.to_csv(ema)\n",
    "df.head(5)"
   ]
  },
  {
   "cell_type": "code",
   "execution_count": 10,
   "metadata": {},
   "outputs": [
    {
     "data": {
      "text/plain": [
       "<Result 'C:\\\\Users\\\\jf_ph\\\\Documents\\\\SATELLITE IMAGES\\\\SHAPEFILE\\\\ema.shp'>"
      ]
     },
     "execution_count": 10,
     "metadata": {},
     "output_type": "execute_result"
    }
   ],
   "source": [
    "import arcpy\n",
    "ema_out= os.path.join(workspace,'ema.shp')\n",
    "arcpy.management.XYTableToPoint(ema, ema_out, \"lon\", \"lat\", None, arcpy.SpatialReference('WGS 1984'))"
   ]
  },
  {
   "cell_type": "code",
   "execution_count": null,
   "metadata": {},
   "outputs": [],
   "source": []
  }
 ],
 "metadata": {
  "kernelspec": {
   "display_name": "ArcGISPro",
   "language": "Python",
   "name": "python3"
  },
  "language_info": {
   "file_extension": ".py",
   "name": "python",
   "version": "3"
  }
 },
 "nbformat": 4,
 "nbformat_minor": 2
}
